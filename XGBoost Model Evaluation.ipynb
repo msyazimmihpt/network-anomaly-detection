{
 "cells": [
  {
   "cell_type": "markdown",
   "id": "ab97aea5-f657-4fe4-be59-574ceea0188b",
   "metadata": {},
   "source": [
    "# Import Library"
   ]
  },
  {
   "cell_type": "code",
   "execution_count": null,
   "id": "2c5b57fa-c418-4ac3-8681-156122c2383d",
   "metadata": {},
   "outputs": [],
   "source": [
    "import numpy as np\n",
    "import pandas as pd\n",
    "import matplotlib.pyplot as plt\n",
    "import seaborn as sns\n",
    "import ipaddress\n",
    "import xgboost as xgb\n",
    "from sklearn.model_selection import train_test_split\n",
    "from sklearn.metrics import accuracy_score, precision_score, recall_score, f1_score, confusion_matrix, classification_report"
   ]
  },
  {
   "cell_type": "markdown",
   "id": "2695cfca-70fc-4c6b-8f40-1595b6a05536",
   "metadata": {},
   "source": [
    "# Dataset"
   ]
  },
  {
   "cell_type": "code",
   "execution_count": null,
   "id": "5c431e81-493d-41e5-a1f6-57ff859e241b",
   "metadata": {},
   "outputs": [],
   "source": [
    "df = pd.read_csv('dataset-final.csv', header=0, encoding='utf-8')\n",
    "df.head()"
   ]
  },
  {
   "cell_type": "code",
   "execution_count": null,
   "id": "6be7a936-824c-4ea4-965b-00a99c5852e2",
   "metadata": {},
   "outputs": [],
   "source": [
    "df.info()"
   ]
  },
  {
   "cell_type": "code",
   "execution_count": null,
   "id": "9aabc2f7-e850-465c-93bb-a89e0471468a",
   "metadata": {},
   "outputs": [],
   "source": [
    "df.describe()"
   ]
  },
  {
   "cell_type": "code",
   "execution_count": null,
   "id": "602b04f0-7377-4e43-9827-29b6e69b2532",
   "metadata": {},
   "outputs": [],
   "source": [
    "# Check NaN Value\n",
    "df.isnull().sum()"
   ]
  },
  {
   "cell_type": "markdown",
   "id": "216850cc-c7e8-410b-bd76-0c87cce5c035",
   "metadata": {},
   "source": [
    "# Data Preprocessing"
   ]
  },
  {
   "cell_type": "markdown",
   "id": "5c40e421-e190-4570-8582-3e0696d99522",
   "metadata": {},
   "source": [
    "## Handling IP Address Value"
   ]
  },
  {
   "cell_type": "code",
   "execution_count": null,
   "id": "544dec10-f6ad-43c3-b34e-de97906c3266",
   "metadata": {},
   "outputs": [],
   "source": [
    "# Function to convert IPv4 addresses to numeric form\n",
    "def ip_to_numeric(ip):\n",
    "    return int(ipaddress.IPv4Address(ip))"
   ]
  },
  {
   "cell_type": "code",
   "execution_count": null,
   "id": "e24a3e86-51c4-4f83-ab33-44412b292a78",
   "metadata": {},
   "outputs": [],
   "source": [
    "# Apply the function to the DataFrame\n",
    "df['netflow.ipv4_src_addr'] = df['netflow.ipv4_src_addr'].apply(ip_to_numeric)\n",
    "df['netflow.ipv4_dst_addr'] = df['netflow.ipv4_dst_addr'].apply(ip_to_numeric)\n",
    "df.head()"
   ]
  },
  {
   "cell_type": "markdown",
   "id": "8206d9b5-deb7-4d05-b92f-a0e738b9fd66",
   "metadata": {},
   "source": [
    "## Handling Timestamp Value"
   ]
  },
  {
   "cell_type": "code",
   "execution_count": null,
   "id": "13473763-259c-4639-b714-6467a1222d30",
   "metadata": {},
   "outputs": [],
   "source": [
    "# Calculate duration\n",
    "df['duration'] = pd.to_datetime(df['netflow.last_switched'], errors='coerce') - pd.to_datetime(df['netflow.first_switched'], errors='coerce')\n",
    "df['duration'] = df['duration'].dt.total_seconds()\n",
    "df.head()"
   ]
  },
  {
   "cell_type": "markdown",
   "id": "96494fc6-3eb3-484d-8dba-1c5a467d277d",
   "metadata": {},
   "source": [
    "## Drop Unused Columns"
   ]
  },
  {
   "cell_type": "code",
   "execution_count": null,
   "id": "d7857e11-0a10-474f-b8ec-5d86dae07098",
   "metadata": {},
   "outputs": [],
   "source": [
    "df = df.drop(['Unnamed: 0', \"@timestamp\", \"netflow.last_switched\", \"netflow.first_switched\"], axis=1)\n",
    "df.head()"
   ]
  },
  {
   "cell_type": "markdown",
   "id": "98456966-f47b-4297-90eb-9e6eeacb3821",
   "metadata": {},
   "source": [
    "# Correlation between Independent Variables"
   ]
  },
  {
   "cell_type": "code",
   "execution_count": null,
   "id": "5084f815-a24e-42a7-80fd-3d0a4b121637",
   "metadata": {},
   "outputs": [],
   "source": [
    "#Re-arrange feature\n",
    "df = df[['netflow.ipv4_src_addr', 'netflow.in_bytes', 'netflow.protocol', 'netflow.tcp_flags', 'netflow.in_pkts',\t'netflow.ipv4_dst_addr', 'netflow.l4_src_port',\t'netflow.l4_dst_port', 'duration', 'label']]"
   ]
  },
  {
   "cell_type": "code",
   "execution_count": null,
   "id": "43a607e3-aee5-41ed-b206-bdea4da39ece",
   "metadata": {},
   "outputs": [],
   "source": [
    "#Heatmap correlation\n",
    "corr_matrix = df.corr()\n",
    "plt.figure(figsize=(30, 20))\n",
    "sns.heatmap(corr_matrix,\n",
    "            annot=True,\n",
    "            linewidths=0.5,\n",
    "            fmt= \".2f\",\n",
    "            cmap=\"YlGnBu\");"
   ]
  },
  {
   "cell_type": "markdown",
   "id": "fa429725-4f2e-4a58-9d02-b1c988734431",
   "metadata": {},
   "source": [
    "# Data Partitioning"
   ]
  },
  {
   "cell_type": "code",
   "execution_count": null,
   "id": "9177f42c-fd72-4c7f-8dd0-3c17875d1567",
   "metadata": {},
   "outputs": [],
   "source": [
    "# Separate the features (X) and the target (y)\n",
    "X = df.drop(columns=[\"label\"])\n",
    "y = df[\"label\"]"
   ]
  },
  {
   "cell_type": "code",
   "execution_count": null,
   "id": "d78841dc-1b5b-42a0-a354-2ee88ece9d21",
   "metadata": {},
   "outputs": [],
   "source": [
    "# Split the data into training and test sets\n",
    "X_train, X_test, y_train, y_test = train_test_split(X, y, test_size=0.2, random_state=42)"
   ]
  },
  {
   "cell_type": "markdown",
   "id": "6488b8aa-b823-48fd-aab4-666b32cea03f",
   "metadata": {},
   "source": [
    "# Modeling"
   ]
  },
  {
   "cell_type": "code",
   "execution_count": null,
   "id": "6866220a-0a48-4277-88d8-f614e6511146",
   "metadata": {},
   "outputs": [],
   "source": [
    "xgboost = xgb.XGBClassifier(n_estimators=10)"
   ]
  },
  {
   "cell_type": "code",
   "execution_count": null,
   "id": "13af1660-afab-4ce7-b939-efa4a73fad83",
   "metadata": {},
   "outputs": [],
   "source": [
    "xgboost.fit(X, y)"
   ]
  },
  {
   "cell_type": "code",
   "execution_count": null,
   "id": "29035466-1248-4532-a3c1-52a963d4c6cd",
   "metadata": {},
   "outputs": [],
   "source": [
    "y_pred = xgboost.predict(X_test)"
   ]
  },
  {
   "cell_type": "markdown",
   "id": "7baedd6f-d4dd-42d9-a19d-18560c4fe65a",
   "metadata": {},
   "source": [
    "# Evaluation"
   ]
  },
  {
   "cell_type": "markdown",
   "id": "7b2752c6-972f-4ba2-8cd1-dd91e2cc78c0",
   "metadata": {},
   "source": [
    "## Accuracy, Precision, Recall, and F1 Score"
   ]
  },
  {
   "cell_type": "code",
   "execution_count": null,
   "id": "3f604cd4-4f21-40b7-a5c8-652367e9a8f6",
   "metadata": {},
   "outputs": [],
   "source": [
    "accuration = accuracy_score(y_test, y_pred)\n",
    "precision = precision_score(y_test, y_pred)\n",
    "recall = recall_score(y_test, y_pred)\n",
    "f1 = f1_score(y_test, y_pred)\n",
    "cm = confusion_matrix(y_test, y_pred)\n",
    "classification_report = classification_report(y_test, y_pred)"
   ]
  },
  {
   "cell_type": "code",
   "execution_count": null,
   "id": "0f0976a5-0eb6-463c-9c78-f27a611349c1",
   "metadata": {},
   "outputs": [],
   "source": [
    "print(f'Accuracy: {accuration}')\n",
    "print(f'Precision: {precision}')\n",
    "print(f'Recall: {recall}')\n",
    "print(f'F1 Score: {f1}')\n",
    "print(f'Confusion Matrix:')\n",
    "print(cm)\n",
    "print(classification_report)"
   ]
  },
  {
   "cell_type": "markdown",
   "id": "bda5810b-3b15-4b47-8451-ef9a86e5ecd3",
   "metadata": {},
   "source": [
    "## Confusion Matrix"
   ]
  },
  {
   "cell_type": "code",
   "execution_count": null,
   "id": "6ef7ef84-151e-4f63-b6ec-790098b36d5f",
   "metadata": {},
   "outputs": [],
   "source": [
    "group_names = ['True Neg', 'False Pos', 'False Neg', 'True Pos']\n",
    "group_counts = [\"{0:0.0f}\".format(value) for value in cm.flatten()]\n",
    "group_percentages = [\"{0:.2%}\".format(value) for value in cm.flatten()/np.sum(cm)]\n",
    "\n",
    "labels = [f\"{v1}\\n{v2}\\n{v3}\" for v1, v2, v3 in zip(group_names, group_counts, group_percentages)]\n",
    "labels = np.asarray(labels).reshape(2,2)\n",
    "\n",
    "sns.heatmap(cm, annot=labels, fmt='', cmap='Blues')"
   ]
  }
 ],
 "metadata": {
  "kernelspec": {
   "display_name": "Python 3 (ipykernel)",
   "language": "python",
   "name": "python3"
  },
  "language_info": {
   "codemirror_mode": {
    "name": "ipython",
    "version": 3
   },
   "file_extension": ".py",
   "mimetype": "text/x-python",
   "name": "python",
   "nbconvert_exporter": "python",
   "pygments_lexer": "ipython3",
   "version": "3.12.3"
  }
 },
 "nbformat": 4,
 "nbformat_minor": 5
}
